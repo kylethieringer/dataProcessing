{
 "cells": [
  {
   "cell_type": "code",
   "execution_count": 1,
   "metadata": {},
   "outputs": [],
   "source": [
    "import os \n",
    "import glob\n",
    "import features"
   ]
  },
  {
   "cell_type": "code",
   "execution_count": 2,
   "metadata": {},
   "outputs": [],
   "source": [
    "exptList = glob.glob(r'/tigress/MMURTHY/path/to/data*')"
   ]
  },
  {
   "cell_type": "code",
   "execution_count": null,
   "metadata": {},
   "outputs": [],
   "source": [
    "for expt_folder in exptList:\n",
    "    fly = os.path.basename(expt_folder)\n",
    "    if os.path.exists(os.path.join(expt_folder, fly+'.h5')):\n",
    "        continue\n",
    "    output_path = expt_folder\n",
    "    withAudio = False\n",
    "    features.make_expt_dataset(expt_folder, output_path=output_path, with_audio=withAudio, skip_audio=True)"
   ]
  },
  {
   "cell_type": "code",
   "execution_count": null,
   "metadata": {},
   "outputs": [],
   "source": []
  }
 ],
 "metadata": {
  "interpreter": {
   "hash": "858e57ac179a21711c48c6ccfc2fec98328d51321d40bb5e4e01b69c65c1a21f"
  },
  "kernelspec": {
   "display_name": "Python 3.10.4 ('wingWaggle')",
   "language": "python",
   "name": "python3"
  },
  "language_info": {
   "codemirror_mode": {
    "name": "ipython",
    "version": 3
   },
   "file_extension": ".py",
   "mimetype": "text/x-python",
   "name": "python",
   "nbconvert_exporter": "python",
   "pygments_lexer": "ipython3",
   "version": "3.10.4"
  },
  "orig_nbformat": 4
 },
 "nbformat": 4,
 "nbformat_minor": 2
}
